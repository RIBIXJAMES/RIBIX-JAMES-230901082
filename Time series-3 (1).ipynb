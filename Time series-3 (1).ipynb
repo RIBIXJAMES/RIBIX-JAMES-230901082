{
 "cells": [
  {
   "cell_type": "code",
   "execution_count": 1,
   "id": "998c09c1",
   "metadata": {},
   "outputs": [
    {
     "name": "stdout",
     "output_type": "stream",
     "text": [
      "Date Index \n",
      " 2011-01-02    0.635399\n",
      "2011-01-05   -0.398714\n",
      "2011-01-07   -0.226434\n",
      "2011-01-08    0.837003\n",
      "2011-01-10    1.215989\n",
      "2011-01-12    0.792644\n",
      "dtype: float64\n"
     ]
    }
   ],
   "source": [
    "import pandas as pd\n",
    "import numpy as np\n",
    "from datetime import datetime\n",
    "\n",
    "#create a date variable that contains the dates\n",
    "dates = [datetime(2011, 1, 2),\n",
    "datetime(2011, 1, 5),\n",
    "datetime(2011, 1, 7),\n",
    "datetime(2011, 1, 8),\n",
    "datetime(2011, 1, 10),\n",
    "datetime(2011, 1, 12)]\n",
    "\n",
    "#with this date object, create a series\n",
    "ts = pd.Series(np.random.randn(6), index=dates)\n",
    "print(\"Date Index \\n\",ts)"
   ]
  },
  {
   "cell_type": "code",
   "execution_count": 2,
   "id": "062acd74",
   "metadata": {},
   "outputs": [
    {
     "name": "stdout",
     "output_type": "stream",
     "text": [
      "\n",
      "Date Index alone from the series: \n",
      " DatetimeIndex(['2011-01-02', '2011-01-05', '2011-01-07', '2011-01-08',\n",
      "               '2011-01-10', '2011-01-12'],\n",
      "              dtype='datetime64[ns]', freq=None)\n"
     ]
    }
   ],
   "source": [
    "print(\"\\nDate Index alone from the series: \\n\",ts.index)"
   ]
  },
  {
   "cell_type": "code",
   "execution_count": 3,
   "id": "8bf8e52b",
   "metadata": {},
   "outputs": [
    {
     "name": "stdout",
     "output_type": "stream",
     "text": [
      "\n",
      "Second index:\n",
      " 2011-01-07 00:00:00\n"
     ]
    }
   ],
   "source": [
    "stamp=ts.index[2]\n",
    "print(\"\\nSecond index:\\n\", stamp)"
   ]
  },
  {
   "cell_type": "code",
   "execution_count": 4,
   "id": "9dae9b18",
   "metadata": {},
   "outputs": [
    {
     "name": "stdout",
     "output_type": "stream",
     "text": [
      "\n",
      "Daterange up to 1000 days:\n",
      " 2000-01-01    0.624709\n",
      "2000-01-02   -0.003390\n",
      "2000-01-03   -1.617177\n",
      "2000-01-04   -1.511227\n",
      "2000-01-05    0.317633\n",
      "                ...   \n",
      "2002-09-22   -0.180685\n",
      "2002-09-23    2.420039\n",
      "2002-09-24   -1.930658\n",
      "2002-09-25   -1.399626\n",
      "2002-09-26   -1.558604\n",
      "Freq: D, Length: 1000, dtype: float64\n"
     ]
    }
   ],
   "source": [
    "longer_ts=pd.Series(np.random.randn(1000),\n",
    "index=pd.date_range(\"2000-01-01\",periods=1000))\n",
    "print(\"\\nDaterange up to 1000 days:\\n\",longer_ts)"
   ]
  },
  {
   "cell_type": "code",
   "execution_count": 5,
   "id": "c91bcd4f",
   "metadata": {},
   "outputs": [
    {
     "name": "stdout",
     "output_type": "stream",
     "text": [
      "\n",
      "Date range-2001 year:\n",
      " 2001-01-01   -0.035068\n",
      "2001-01-02   -1.171296\n",
      "2001-01-03   -1.110360\n",
      "2001-01-04    0.013227\n",
      "2001-01-05    1.241930\n",
      "                ...   \n",
      "2001-12-27   -1.710160\n",
      "2001-12-28   -0.376203\n",
      "2001-12-29    0.167338\n",
      "2001-12-30    0.818757\n",
      "2001-12-31   -1.179861\n",
      "Freq: D, Length: 365, dtype: float64\n"
     ]
    }
   ],
   "source": [
    "print(\"\\nDate range-2001 year:\\n\", longer_ts[\"2001\"])"
   ]
  },
  {
   "cell_type": "code",
   "execution_count": 6,
   "id": "9aa3b27f",
   "metadata": {},
   "outputs": [
    {
     "name": "stdout",
     "output_type": "stream",
     "text": [
      "\n",
      "Date range-05 month 2001 year:\n",
      " 2001-05-01   -0.654131\n",
      "2001-05-02   -0.386048\n",
      "2001-05-03    0.026072\n",
      "2001-05-04   -0.165174\n",
      "2001-05-05   -1.076713\n",
      "2001-05-06    0.144000\n",
      "2001-05-07   -0.160754\n",
      "2001-05-08   -0.653447\n",
      "2001-05-09    1.263870\n",
      "2001-05-10    0.383996\n",
      "2001-05-11    1.119883\n",
      "2001-05-12   -0.223807\n",
      "2001-05-13   -0.179080\n",
      "2001-05-14    0.959386\n",
      "2001-05-15    1.135162\n",
      "2001-05-16    0.921873\n",
      "2001-05-17    0.464491\n",
      "2001-05-18    0.986506\n",
      "2001-05-19   -0.286467\n",
      "2001-05-20   -1.159182\n",
      "2001-05-21   -0.851069\n",
      "2001-05-22    0.493046\n",
      "2001-05-23    2.258361\n",
      "2001-05-24   -0.366938\n",
      "2001-05-25   -0.327974\n",
      "2001-05-26    1.224372\n",
      "2001-05-27    1.316180\n",
      "2001-05-28    0.316540\n",
      "2001-05-29   -0.647603\n",
      "2001-05-30    0.050172\n",
      "2001-05-31    0.407767\n",
      "Freq: D, dtype: float64\n"
     ]
    }
   ],
   "source": [
    "print(\"\\nDate range-05 month 2001 year:\\n\", longer_ts[\"2001-05\"])"
   ]
  },
  {
   "cell_type": "code",
   "execution_count": 7,
   "id": "fa3d86ab",
   "metadata": {},
   "outputs": [
    {
     "name": "stdout",
     "output_type": "stream",
     "text": [
      "\n",
      "Date range-first few dates in 2000 year:\n",
      " 2000-01-01    0.624709\n",
      "2000-01-02   -0.003390\n",
      "2000-01-03   -1.617177\n",
      "2000-01-04   -1.511227\n",
      "2000-01-05    0.317633\n",
      "Freq: D, dtype: float64\n"
     ]
    }
   ],
   "source": [
    "print(\"\\nDate range-first few dates in 2000 year:\\n\",longer_ts[\"2000\"].head())"
   ]
  },
  {
   "cell_type": "code",
   "execution_count": 8,
   "id": "4c1ecb76",
   "metadata": {},
   "outputs": [
    {
     "name": "stdout",
     "output_type": "stream",
     "text": [
      "\n",
      "Date range-first 15 dates in 02 month 2001 year:\n",
      " 2000-02-01   -0.811000\n",
      "2000-02-02   -1.558669\n",
      "2000-02-03    0.654839\n",
      "2000-02-04   -0.264799\n",
      "2000-02-05   -0.756637\n",
      "2000-02-06   -1.364807\n",
      "2000-02-07   -0.777630\n",
      "2000-02-08   -1.698182\n",
      "2000-02-09   -0.723296\n",
      "2000-02-10    0.167030\n",
      "2000-02-11    0.078215\n",
      "2000-02-12    1.341279\n",
      "2000-02-13   -0.581576\n",
      "2000-02-14   -0.985347\n",
      "2000-02-15   -1.295885\n",
      "Freq: D, dtype: float64\n"
     ]
    }
   ],
   "source": [
    "print(\"\\nDate range-first 15 dates in 02 month 2001 year:\\n\",longer_ts[\"2000-02\"].head(15))"
   ]
  },
  {
   "cell_type": "code",
   "execution_count": 9,
   "id": "7440a34a",
   "metadata": {},
   "outputs": [
    {
     "name": "stdout",
     "output_type": "stream",
     "text": [
      "\n",
      "Date range-rom 26-9-2001:\n",
      " 2000-09-26    0.215069\n",
      "2000-09-27    0.778265\n",
      "2000-09-28   -1.949959\n",
      "2000-09-29    0.820464\n",
      "2000-09-30    0.420555\n",
      "                ...   \n",
      "2002-09-22   -0.180685\n",
      "2002-09-23    2.420039\n",
      "2002-09-24   -1.930658\n",
      "2002-09-25   -1.399626\n",
      "2002-09-26   -1.558604\n",
      "Freq: D, Length: 731, dtype: float64\n"
     ]
    }
   ],
   "source": [
    "print(\"\\nDate range-rom 26-9-2001:\\n\",longer_ts[datetime(2000,9,26):])"
   ]
  },
  {
   "cell_type": "code",
   "execution_count": 10,
   "id": "b100d269",
   "metadata": {},
   "outputs": [
    {
     "name": "stdout",
     "output_type": "stream",
     "text": [
      "\n",
      "Date range from 26-9-2001 to 25-9-2002:\n",
      " 2001-09-26    0.877173\n",
      "2001-09-27   -1.706741\n",
      "2001-09-28   -2.590304\n",
      "2001-09-29    0.668223\n",
      "2001-09-30   -0.936556\n",
      "                ...   \n",
      "2002-09-21    0.607508\n",
      "2002-09-22   -0.180685\n",
      "2002-09-23    2.420039\n",
      "2002-09-24   -1.930658\n",
      "2002-09-25   -1.399626\n",
      "Freq: D, Length: 365, dtype: float64\n"
     ]
    }
   ],
   "source": [
    "print(\"\\nDate range from 26-9-2001 to 25-9-2002:\\n\",longer_ts[datetime(2001,9,26):datetime(2002,9,25)])"
   ]
  },
  {
   "cell_type": "code",
   "execution_count": null,
   "id": "3f7e63ff",
   "metadata": {},
   "outputs": [],
   "source": []
  }
 ],
 "metadata": {
  "kernelspec": {
   "display_name": "Python 3 (ipykernel)",
   "language": "python",
   "name": "python3"
  },
  "language_info": {
   "codemirror_mode": {
    "name": "ipython",
    "version": 3
   },
   "file_extension": ".py",
   "mimetype": "text/x-python",
   "name": "python",
   "nbconvert_exporter": "python",
   "pygments_lexer": "ipython3",
   "version": "3.11.4"
  }
 },
 "nbformat": 4,
 "nbformat_minor": 5
}
